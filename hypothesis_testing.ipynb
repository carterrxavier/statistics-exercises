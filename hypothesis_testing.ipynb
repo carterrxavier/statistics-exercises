{
 "cells": [
  {
   "cell_type": "markdown",
   "metadata": {},
   "source": [
    "<h1> For each of the following questions, formulate a null and alternative hypothesis (be as specific as you can be), then give an example of what a true positive, true negative, type I and type II errors would look like. Note that some of the questions are intentionally phrased in a vague way. It is your job to reword these as more precise questions that could be tested.</h1\n",
    "\n"
   ]
  },
  {
   "cell_type": "markdown",
   "metadata": {},
   "source": [
    "## 1.Has the network latency gone up since we switched internet service providers?"
   ]
  },
  {
   "cell_type": "markdown",
   "metadata": {},
   "source": [
    "#### Null Hypothesis: Network latency has remained the same since switching internet service providers.\n",
    "#### Alternative Hypothisis: Network Latency has signigicant diffrences  since switching internet service providers.\n",
    "\n",
    "#### True positive: Reject null Hypothesis\n",
    "#### True negative: Accept Null Hypothesis\n",
    "#### Type 1 : Reject the null hypothesis when the null hypothesis is true.\n",
    "#### Type 2 : Accept the alternative when hypothesis is false."
   ]
  },
  {
   "cell_type": "markdown",
   "metadata": {},
   "source": [
    "## 2. Is the website redesign any good?"
   ]
  },
  {
   "cell_type": "markdown",
   "metadata": {},
   "source": [
    "#### Null Hypothesis: The website design is the same as to was previously.\n",
    "#### Alternative Hypothesis: The redesign has been significantly diffrent then the original.\n",
    "\n",
    "#### True positive: Reject null Hypothesis\n",
    "#### True negative: Accept Null Hypothesis\n",
    "#### Type 1 : Reject the null hypothesis when the null hypothesis is true.\n",
    "#### Type 2 : Accept the alternative when hypothesis is false."
   ]
  },
  {
   "cell_type": "markdown",
   "metadata": {},
   "source": [
    "## 3.Is our television ad driving more sales?"
   ]
  },
  {
   "cell_type": "markdown",
   "metadata": {},
   "source": [
    "#### Null Hypothesis: our sales have remained the same , regardless of our Television ad\n",
    "#### Althernative Hypothesis: Our sales have seen a dramatic change due to our Television Ad\n",
    "\n",
    "#### True positive: Reject null Hypothesis\n",
    "#### True negative: Accept Null Hypothesis\n",
    "#### Type 1 : Reject the null hypothesis when the null hypothesis is true.\n",
    "#### Type 2 : Accept the alternative when hypothesis is false.\n"
   ]
  },
  {
   "cell_type": "code",
   "execution_count": null,
   "metadata": {},
   "outputs": [],
   "source": []
  }
 ],
 "metadata": {
  "kernelspec": {
   "display_name": "Python 3",
   "language": "python",
   "name": "python3"
  },
  "language_info": {
   "codemirror_mode": {
    "name": "ipython",
    "version": 3
   },
   "file_extension": ".py",
   "mimetype": "text/x-python",
   "name": "python",
   "nbconvert_exporter": "python",
   "pygments_lexer": "ipython3",
   "version": "3.8.5"
  }
 },
 "nbformat": 4,
 "nbformat_minor": 4
}
