{
 "cells": [
  {
   "cell_type": "code",
   "execution_count": 94,
   "metadata": {},
   "outputs": [],
   "source": [
    "import numpy as np\n",
    "import pandas as pd\n",
    "import matplotlib.pyplot as plt\n",
    "from scipy import stats\n",
    "from env import user, password,host\n",
    "\n",
    "def get_db_url(user,password,host,db_name):\n",
    "    return f'mysql+pymysql://{user}:{password}@{host}/{db_name}'\n",
    "url = get_db_url(user,password,host,'employees')"
   ]
  },
  {
   "cell_type": "code",
   "execution_count": 1,
   "metadata": {},
   "outputs": [],
   "source": [
    "#1\n",
    "\n",
    "#A bank found that the average number of cars waiting during the noon hour at \n",
    "#a drive-up window follows a Poisson distribution with a mean of 2 cars.\n",
    "#Make a chart of this distribution and answer these questions concerning the probability of cars waiting at the drive-up window.\n",
    "#What is the probability that no cars drive up in the noon hour?\n",
    "#What is the probability that 3 or more cars come through the drive through?\n",
    "#How likely is it that the drive through gets at least 1 car?"
   ]
  },
  {
   "cell_type": "code",
   "execution_count": 4,
   "metadata": {},
   "outputs": [
    {
     "data": {
      "text/plain": [
       "<BarContainer object of 10 artists>"
      ]
     },
     "execution_count": 4,
     "metadata": {},
     "output_type": "execute_result"
    },
    {
     "data": {
      "image/png": "[encoded data removed]",
      "text/plain": [
       "<Figure size 432x288 with 1 Axes>"
      ]
     },
     "metadata": {
      "needs_background": "light"
     },
     "output_type": "display_data"
    }
   ],
   "source": [
    "λ = 2\n",
    "dis = stats.poisson(λ)\n",
    "\n",
    "x = np.arange(0,10)\n",
    "y = dis.pmf(x)\n",
    "\n",
    "plt.bar(x,y)"
   ]
  },
  {
   "cell_type": "code",
   "execution_count": 5,
   "metadata": {},
   "outputs": [
    {
     "data": {
      "text/plain": [
       "0.1353352832366127"
      ]
     },
     "execution_count": 5,
     "metadata": {},
     "output_type": "execute_result"
    }
   ],
   "source": [
    "#What is the probability that no cars drive up in the noon hour?\n",
    "dis.pmf(0)"
   ]
  },
  {
   "cell_type": "code",
   "execution_count": 6,
   "metadata": {},
   "outputs": [
    {
     "data": {
      "text/plain": [
       "0.32332358381693654"
      ]
     },
     "execution_count": 6,
     "metadata": {},
     "output_type": "execute_result"
    }
   ],
   "source": [
    "#What is the probability that 3 or more cars come through the drive through?\n",
    "dis.sf(2)"
   ]
  },
  {
   "cell_type": "code",
   "execution_count": 8,
   "metadata": {},
   "outputs": [
    {
     "data": {
      "text/plain": [
       "0.8646647167633873"
      ]
     },
     "execution_count": 8,
     "metadata": {},
     "output_type": "execute_result"
    }
   ],
   "source": [
    "#How likely is it that the drive through gets at least 1 car?\n",
    "dis.sf(0)"
   ]
  },
  {
   "cell_type": "code",
   "execution_count": 9,
   "metadata": {},
   "outputs": [],
   "source": [
    "#2\n",
    "\n",
    "#Grades of State University graduates are normally distributed with a mean of 3.0 and a standard deviation of .3. Calculate the following:\n",
    "#What grade point average is required to be in the top 5% of the graduating class?\n",
    "#What GPA constitutes the bottom 15% of the class?\n",
    "#An eccentric alumnus left scholarship money for students in the third decile from the bottom of their class. \n",
    "#Determine the range of the third decile. Would a student with a 2.8 grade point average qualify for this scholarship?\n",
    "#If I have a GPA of 3.5, what percentile am I in?"
   ]
  },
  {
   "cell_type": "code",
   "execution_count": 15,
   "metadata": {},
   "outputs": [],
   "source": [
    "mean = 3.0\n",
    "std = .3\n",
    "dis = stats.norm(mean, std)"
   ]
  },
  {
   "cell_type": "code",
   "execution_count": 18,
   "metadata": {},
   "outputs": [
    {
     "data": {
      "text/plain": [
       "3.4934560880854417"
      ]
     },
     "execution_count": 18,
     "metadata": {},
     "output_type": "execute_result"
    }
   ],
   "source": [
    "#What grade point average is required to be in the top 5% of the graduating class?\n",
    "dis.isf(.05)"
   ]
  },
  {
   "cell_type": "code",
   "execution_count": 19,
   "metadata": {},
   "outputs": [
    {
     "data": {
      "text/plain": [
       "2.689069983151863"
      ]
     },
     "execution_count": 19,
     "metadata": {},
     "output_type": "execute_result"
    }
   ],
   "source": [
    "#What GPA constitutes the bottom 15% of the class?\n",
    "dis.ppf(0.15)"
   ]
  },
  {
   "cell_type": "code",
   "execution_count": 22,
   "metadata": {},
   "outputs": [
    {
     "data": {
      "text/plain": [
       "(2.7475136299281258, 2.842679846187588)"
      ]
     },
     "execution_count": 22,
     "metadata": {},
     "output_type": "execute_result"
    }
   ],
   "source": [
    "#An eccentric alumnus left scholarship money for students in the third decile from the bottom of their class.\n",
    "#Determine the range of the third decile. Would a student with a 2.8 grade point average qualify for this scholarship?\n",
    "scholorship = 2.8\n",
    "dis.ppf(.2), dis.ppf(.3)"
   ]
  },
  {
   "cell_type": "code",
   "execution_count": 23,
   "metadata": {},
   "outputs": [
    {
     "data": {
      "text/plain": [
       "True"
      ]
     },
     "execution_count": 23,
     "metadata": {},
     "output_type": "execute_result"
    }
   ],
   "source": [
    "(scholorship >= dis.ppf(.2) and scholorship <= dis.ppf(.3))"
   ]
  },
  {
   "cell_type": "code",
   "execution_count": 36,
   "metadata": {},
   "outputs": [
    {
     "data": {
      "text/plain": [
       "0.0477903522728147"
      ]
     },
     "execution_count": 36,
     "metadata": {},
     "output_type": "execute_result"
    }
   ],
   "source": [
    "#If I have a GPA of 3.5, what percentile am I in?\n",
    "dis.sf(3.5)"
   ]
  },
  {
   "cell_type": "code",
   "execution_count": 37,
   "metadata": {},
   "outputs": [],
   "source": [
    "#3\n",
    "#A marketing website has an average click-through rate of 2%.\n",
    "#One day they observe 4326 visitors and 97 click-throughs. \n",
    "#How likely is it that this many people or more click through?"
   ]
  },
  {
   "cell_type": "code",
   "execution_count": 38,
   "metadata": {},
   "outputs": [],
   "source": [
    "vis = 4326\n",
    "click_avg = .02\n",
    "dis = stats.binom(vis, click_avg)"
   ]
  },
  {
   "cell_type": "code",
   "execution_count": 41,
   "metadata": {},
   "outputs": [
    {
     "data": {
      "text/plain": [
       "0.1397582363130086"
      ]
     },
     "execution_count": 41,
     "metadata": {},
     "output_type": "execute_result"
    }
   ],
   "source": [
    "#How likely is it that this many people or more click through?\n",
    "dis.sf(96)"
   ]
  },
  {
   "cell_type": "code",
   "execution_count": 43,
   "metadata": {},
   "outputs": [],
   "source": [
    "#4 You are working on some statistics homework consisting of 100 \n",
    "#questions where all of the answers are a probability rounded to the hundreths place.\n",
    "#Looking to save time, you put down random probabilities as the answer to each question.\n",
    "#What is the probability that at least one of your first 60 answers is correct?\n"
   ]
  },
  {
   "cell_type": "code",
   "execution_count": 62,
   "metadata": {},
   "outputs": [],
   "source": [
    "questions = 60\n",
    "answer_prob = .01\n",
    "\n",
    "dis = stats.binom(questions,answer_prob)"
   ]
  },
  {
   "cell_type": "code",
   "execution_count": 63,
   "metadata": {},
   "outputs": [
    {
     "data": {
      "text/plain": [
       "0.4528433576092388"
      ]
     },
     "execution_count": 63,
     "metadata": {},
     "output_type": "execute_result"
    }
   ],
   "source": [
    "dis.sf(0)"
   ]
  },
  {
   "cell_type": "code",
   "execution_count": 64,
   "metadata": {},
   "outputs": [],
   "source": [
    "#5\n",
    "#The codeup staff tends to get upset when the student break area is not cleaned up.\n",
    "#Suppose that there's a 3% chance that any one student cleans the break area when they visit it\n",
    "#, and, on any given day, about 90% of the 3 active cohorts of 22 students visit the break area.\n",
    "#How likely is it that the break area gets cleaned up each day? How likely is it that it goes two days without getting cleaned up? All week?"
   ]
  },
  {
   "cell_type": "code",
   "execution_count": 79,
   "metadata": {},
   "outputs": [],
   "source": [
    "prob_of_cleanup = .03\n",
    "active_students = 66\n",
    "students_who_visit = (.90 * active_students)\n",
    "\n",
    "dis = stats.binom(students_who_visit, prob_of_cleanup)"
   ]
  },
  {
   "cell_type": "code",
   "execution_count": 80,
   "metadata": {},
   "outputs": [
    {
     "data": {
      "text/plain": [
       "0.3008686801329962"
      ]
     },
     "execution_count": 80,
     "metadata": {},
     "output_type": "execute_result"
    }
   ],
   "source": [
    "#How likely is it that the break area gets cleaned up each day?\n",
    "dis.pmf(1)"
   ]
  },
  {
   "cell_type": "code",
   "execution_count": 86,
   "metadata": {},
   "outputs": [
    {
     "data": {
      "text/plain": [
       "0.5317140258060139"
      ]
     },
     "execution_count": 86,
     "metadata": {},
     "output_type": "execute_result"
    }
   ],
   "source": [
    "#How likely is it that it goes two days without getting cleaned up?\n",
    "dis.sf(1)"
   ]
  },
  {
   "cell_type": "code",
   "execution_count": 87,
   "metadata": {},
   "outputs": [
    {
     "data": {
      "text/plain": [
       "0.03192515170090832"
      ]
     },
     "execution_count": 87,
     "metadata": {},
     "output_type": "execute_result"
    }
   ],
   "source": [
    "#All week?\n",
    "dis.sf(4)"
   ]
  },
  {
   "cell_type": "code",
   "execution_count": 88,
   "metadata": {},
   "outputs": [],
   "source": [
    "#6\n",
    "#You want to get lunch at La Panaderia, but notice that the line is usually very long at lunchtime.\n",
    "#After several weeks of careful observation, you notice that the average number of people in line when your\n",
    "#lunch break starts is normally distributed with a mean of 15 and standard deviation of 3.\n",
    "#If it takes 2 minutes for each person to order, and 10 minutes from ordering to getting your food, \n",
    "#what is the likelihood that you have at least 15 minutes left to eat your food before you have to go back to class? \n",
    "#Assume you have one hour for lunch, and ignore travel time to and from La Panaderia."
   ]
  },
  {
   "cell_type": "code",
   "execution_count": 91,
   "metadata": {},
   "outputs": [
    {
     "data": {
      "text/plain": [
       "0.6305586598182363"
      ]
     },
     "execution_count": 91,
     "metadata": {},
     "output_type": "execute_result"
    }
   ],
   "source": [
    "mean = 15\n",
    "std = 3\n",
    "dis = stats.norm(mean, std)\n",
    "\n",
    "\n",
    "dis.sf(14)"
   ]
  },
  {
   "cell_type": "code",
   "execution_count": 93,
   "metadata": {},
   "outputs": [],
   "source": [
    "#7 Connect to the employees database and find the average salary of current employees, \n",
    "#along with the standard deviation. For the following questions,\n",
    "#calculate the answer based on modeling the employees salaries with a \n",
    "#normal distribution defined by the calculated mean and standard deviation \n",
    "#then compare this answer to the actual values present in the salaries dataset.\n",
    "    #What percent of employees earn less than 60,000?\n",
    "    #What percent of employees earn more than 95,000?\n",
    "    #What percent of employees earn between 65,000 and 80,000?\n",
    "    #What do the top 5% of employees make?"
   ]
  },
  {
   "cell_type": "code",
   "execution_count": 105,
   "metadata": {},
   "outputs": [],
   "source": [
    "salaries_df = pd.read_sql(\"select salary from salaries where to_date = '9999-01-01'\",url)"
   ]
  },
  {
   "cell_type": "code",
   "execution_count": 106,
   "metadata": {},
   "outputs": [
    {
     "data": {
      "text/html": [
       "<div>\n",
       "<style scoped>\n",
       "    .dataframe tbody tr th:only-of-type {\n",
       "        vertical-align: middle;\n",
       "    }\n",
       "\n",
       "    .dataframe tbody tr th {\n",
       "        vertical-align: top;\n",
       "    }\n",
       "\n",
       "    .dataframe thead th {\n",
       "        text-align: right;\n",
       "    }\n",
       "</style>\n",
       "<table border=\"1\" class=\"dataframe\">\n",
       "  <thead>\n",
       "    <tr style=\"text-align: right;\">\n",
       "      <th></th>\n",
       "      <th>salary</th>\n",
       "    </tr>\n",
       "  </thead>\n",
       "  <tbody>\n",
       "    <tr>\n",
       "      <th>0</th>\n",
       "      <td>88958</td>\n",
       "    </tr>\n",
       "    <tr>\n",
       "      <th>1</th>\n",
       "      <td>72527</td>\n",
       "    </tr>\n",
       "    <tr>\n",
       "      <th>2</th>\n",
       "      <td>43311</td>\n",
       "    </tr>\n",
       "    <tr>\n",
       "      <th>3</th>\n",
       "      <td>74057</td>\n",
       "    </tr>\n",
       "    <tr>\n",
       "      <th>4</th>\n",
       "      <td>94692</td>\n",
       "    </tr>\n",
       "    <tr>\n",
       "      <th>...</th>\n",
       "      <td>...</td>\n",
       "    </tr>\n",
       "    <tr>\n",
       "      <th>240119</th>\n",
       "      <td>52868</td>\n",
       "    </tr>\n",
       "    <tr>\n",
       "      <th>240120</th>\n",
       "      <td>69501</td>\n",
       "    </tr>\n",
       "    <tr>\n",
       "      <th>240121</th>\n",
       "      <td>83441</td>\n",
       "    </tr>\n",
       "    <tr>\n",
       "      <th>240122</th>\n",
       "      <td>55003</td>\n",
       "    </tr>\n",
       "    <tr>\n",
       "      <th>240123</th>\n",
       "      <td>77303</td>\n",
       "    </tr>\n",
       "  </tbody>\n",
       "</table>\n",
       "<p>240124 rows × 1 columns</p>\n",
       "</div>"
      ],
      "text/plain": [
       "        salary\n",
       "0        88958\n",
       "1        72527\n",
       "2        43311\n",
       "3        74057\n",
       "4        94692\n",
       "...        ...\n",
       "240119   52868\n",
       "240120   69501\n",
       "240121   83441\n",
       "240122   55003\n",
       "240123   77303\n",
       "\n",
       "[240124 rows x 1 columns]"
      ]
     },
     "execution_count": 106,
     "metadata": {},
     "output_type": "execute_result"
    }
   ],
   "source": [
    "salaries_df"
   ]
  },
  {
   "cell_type": "code",
   "execution_count": 107,
   "metadata": {},
   "outputs": [],
   "source": [
    "#using Normal distrabutions with mean and  standard deviation first\n",
    "mean = salaries_df.salary.mean()\n",
    "std = salaries_df.salary.std()\n",
    "dis = stats.norm(mean, std)"
   ]
  },
  {
   "cell_type": "code",
   "execution_count": 125,
   "metadata": {},
   "outputs": [
    {
     "data": {
      "text/plain": [
       "0.2438393099761686"
      ]
     },
     "execution_count": 125,
     "metadata": {},
     "output_type": "execute_result"
    }
   ],
   "source": [
    "#What percent of employees earn less than 60,000?\n",
    "dis.cdf(59_999)"
   ]
  },
  {
   "cell_type": "code",
   "execution_count": 126,
   "metadata": {},
   "outputs": [
    {
     "data": {
      "text/plain": [
       "0.09208819199804053"
      ]
     },
     "execution_count": 126,
     "metadata": {},
     "output_type": "execute_result"
    }
   ],
   "source": [
    " #What percent of employees earn more than 95,000?\n",
    "dis.sf(95_000)"
   ]
  },
  {
   "cell_type": "code",
   "execution_count": 144,
   "metadata": {},
   "outputs": [
    {
     "data": {
      "text/plain": [
       "0.020466412445969473"
      ]
     },
     "execution_count": 144,
     "metadata": {},
     "output_type": "execute_result"
    }
   ],
   "source": [
    "#What percent of employees earn between 65,000 and 80,000?\n",
    "((dis.cdf(80_000)) - dis.sf(65_000))"
   ]
  },
  {
   "cell_type": "code",
   "execution_count": 128,
   "metadata": {},
   "outputs": [
    {
     "data": {
      "text/plain": [
       "100484.64454102777"
      ]
     },
     "execution_count": 128,
     "metadata": {},
     "output_type": "execute_result"
    }
   ],
   "source": [
    "#What do the top 5% of employees make?\n",
    "dis.isf(.05)"
   ]
  },
  {
   "cell_type": "code",
   "execution_count": 129,
   "metadata": {},
   "outputs": [],
   "source": [
    "#now solving with actual data from salaries dataframe"
   ]
  },
  {
   "cell_type": "code",
   "execution_count": 130,
   "metadata": {},
   "outputs": [
    {
     "data": {
      "text/plain": [
       "salary    0.270573\n",
       "dtype: float64"
      ]
     },
     "execution_count": 130,
     "metadata": {},
     "output_type": "execute_result"
    }
   ],
   "source": [
    "#What percent of employees earn less than 60,000?\n",
    "salaries_df[salaries_df[\"salary\"] < 60_000].count() / salaries_df.count()"
   ]
  },
  {
   "cell_type": "code",
   "execution_count": 131,
   "metadata": {},
   "outputs": [
    {
     "data": {
      "text/plain": [
       "salary    0.108627\n",
       "dtype: float64"
      ]
     },
     "execution_count": 131,
     "metadata": {},
     "output_type": "execute_result"
    }
   ],
   "source": [
    "#What percent of employees earn more than 95,000?\n",
    "salaries_df[salaries_df[\"salary\"] > 95_000].count() / salaries_df.count()"
   ]
  },
  {
   "cell_type": "code",
   "execution_count": 143,
   "metadata": {},
   "outputs": [
    {
     "data": {
      "text/plain": [
       "salary    0.325107\n",
       "dtype: float64"
      ]
     },
     "execution_count": 143,
     "metadata": {},
     "output_type": "execute_result"
    }
   ],
   "source": [
    "#What percent of employees earn between 65,000 and 80,000?\n",
    "salaries_df[(salaries_df[\"salary\"] < 80_000) & (salaries_df[\"salary\"] > 65_000)].count() / salaries_df.count()"
   ]
  },
  {
   "cell_type": "code",
   "execution_count": 151,
   "metadata": {},
   "outputs": [
    {
     "data": {
      "text/plain": [
       "salary    104225.85\n",
       "Name: 0.95, dtype: float64"
      ]
     },
     "execution_count": 151,
     "metadata": {},
     "output_type": "execute_result"
    }
   ],
   "source": [
    "#What do the top 5% of employees make?\n",
    "salaries_df.quantile(0.95)"
   ]
  },
  {
   "cell_type": "code",
   "execution_count": null,
   "metadata": {},
   "outputs": [],
   "source": []
  }
 ],
 "metadata": {
  "kernelspec": {
   "display_name": "Python 3",
   "language": "python",
   "name": "python3"
  },
  "language_info": {
   "codemirror_mode": {
    "name": "ipython",
    "version": 3
   },
   "file_extension": ".py",
   "mimetype": "text/x-python",
   "name": "python",
   "nbconvert_exporter": "python",
   "pygments_lexer": "ipython3",
   "version": "3.8.5"
  }
 },
 "nbformat": 4,
 "nbformat_minor": 4
}
