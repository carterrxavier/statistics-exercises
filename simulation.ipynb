{
 "cells": [
  {
   "cell_type": "code",
   "execution_count": 1,
   "metadata": {},
   "outputs": [],
   "source": [
    "import numpy as np\n",
    "import pandas as pd\n",
    "\n",
    "#import viz # curriculum example visualizations\n",
    "\n",
    "np.random.seed(1349)"
   ]
  },
  {
   "cell_type": "code",
   "execution_count": 2,
   "metadata": {},
   "outputs": [],
   "source": [
    "#1. How likely is it that you roll doubles when rolling two dice?"
   ]
  },
  {
   "cell_type": "code",
   "execution_count": 3,
   "metadata": {},
   "outputs": [],
   "source": [
    "possible_outcomes = [1,2,3,4,5,6]\n",
    "trials = 100_000_000\n",
    "dice = 2\n",
    "test = np.random.choice(possible_outcomes, trials*dice ).reshape(trials, dice)"
   ]
  },
  {
   "cell_type": "code",
   "execution_count": 5,
   "metadata": {},
   "outputs": [
    {
     "data": {
      "text/plain": [
       "array([[3, 2],\n",
       "       [5, 3],\n",
       "       [4, 4],\n",
       "       ...,\n",
       "       [2, 3],\n",
       "       [4, 2],\n",
       "       [6, 2]])"
      ]
     },
     "execution_count": 5,
     "metadata": {},
     "output_type": "execute_result"
    }
   ],
   "source": [
    "test"
   ]
  },
  {
   "cell_type": "code",
   "execution_count": 6,
   "metadata": {},
   "outputs": [],
   "source": [
    "#2 If you flip 8 coins, what is the probability of getting exactly 3 heads? What is the probability of getting more than 3 heads?"
   ]
  },
  {
   "cell_type": "code",
   "execution_count": 10,
   "metadata": {},
   "outputs": [],
   "source": [
    "trials = 1_000_000\n",
    "cols = 8\n",
    "head = 1\n",
    "tails = 0\n",
    "flips = np.random.choice([head, tails], size=(trials,cols))"
   ]
  },
  {
   "cell_type": "code",
   "execution_count": 12,
   "metadata": {},
   "outputs": [],
   "source": [
    "num_heads = flips.sum(axis=1)"
   ]
  },
  {
   "cell_type": "code",
   "execution_count": 13,
   "metadata": {},
   "outputs": [
    {
     "data": {
      "text/plain": [
       "array([3, 5, 4, ..., 4, 5, 4])"
      ]
     },
     "execution_count": 13,
     "metadata": {},
     "output_type": "execute_result"
    }
   ],
   "source": [
    "num_heads"
   ]
  },
  {
   "cell_type": "code",
   "execution_count": 14,
   "metadata": {},
   "outputs": [],
   "source": [
    "prob = (num_heads==3).mean() "
   ]
  },
  {
   "cell_type": "code",
   "execution_count": 15,
   "metadata": {},
   "outputs": [
    {
     "data": {
      "text/plain": [
       "0.218961"
      ]
     },
     "execution_count": 15,
     "metadata": {},
     "output_type": "execute_result"
    }
   ],
   "source": [
    "prob"
   ]
  },
  {
   "cell_type": "code",
   "execution_count": 16,
   "metadata": {},
   "outputs": [],
   "source": [
    "#There are approximitely 3 web development \n",
    "#cohorts for every 1 data science cohort at Codeup.\n",
    "#Assuming that Codeup randomly selects an alumni to put on a billboard,\n",
    "#what are the odds that the two billboards I drive past both have data science students on them?"
   ]
  },
  {
   "cell_type": "code",
   "execution_count": 21,
   "metadata": {},
   "outputs": [],
   "source": [
    "ds_prob = 1/4\n",
    "rows = 1_000_000\n",
    "cols = 2\n",
    "test = np.random.random((rows, cols))"
   ]
  },
  {
   "cell_type": "code",
   "execution_count": 22,
   "metadata": {},
   "outputs": [
    {
     "data": {
      "text/plain": [
       "array([[0.73207593, 0.33799126],\n",
       "       [0.6555624 , 0.46427823],\n",
       "       [0.53341349, 0.87666062],\n",
       "       ...,\n",
       "       [0.6914441 , 0.4315685 ],\n",
       "       [0.48833112, 0.42305234],\n",
       "       [0.92532017, 0.21931646]])"
      ]
     },
     "execution_count": 22,
     "metadata": {},
     "output_type": "execute_result"
    }
   ],
   "source": [
    "test"
   ]
  },
  {
   "cell_type": "code",
   "execution_count": 25,
   "metadata": {},
   "outputs": [
    {
     "data": {
      "text/plain": [
       "0.062623"
      ]
     },
     "execution_count": 25,
     "metadata": {},
     "output_type": "execute_result"
    }
   ],
   "source": [
    "((test < ds_prob).sum(axis=1)==2).mean()"
   ]
  },
  {
   "cell_type": "code",
   "execution_count": 26,
   "metadata": {},
   "outputs": [],
   "source": [
    "#Codeup students buy, on average, 3 poptart packages (+- 1.5) a day from the snack vending machine. \n",
    "#If on monday the machine is restocked with 17 poptart packages, \n",
    "#how likely is it that I will be able to buy some poptarts on Friday afternoon?"
   ]
  },
  {
   "cell_type": "code",
   "execution_count": 28,
   "metadata": {},
   "outputs": [],
   "source": [
    "pop_avg = 3\n",
    "std = 1.5\n",
    "cols = 5\n",
    "rows = 1_000_000\n",
    "consumed_pop_tarts = np.random.normal(pop_avg, std, size = (rows,cols))"
   ]
  },
  {
   "cell_type": "code",
   "execution_count": 29,
   "metadata": {},
   "outputs": [
    {
     "data": {
      "text/plain": [
       "array([[4.1743009 , 0.51488058, 1.6065216 , 2.64719577, 4.15600796],\n",
       "       [4.97984396, 3.03048025, 0.0448525 , 2.21723984, 3.59954758],\n",
       "       [3.26269542, 4.1392994 , 4.36060182, 2.21800232, 0.37200108],\n",
       "       ...,\n",
       "       [1.70483008, 3.31539088, 3.19114161, 4.83498351, 1.22981557],\n",
       "       [0.98645854, 1.52056959, 2.28942456, 2.87543317, 3.33427503],\n",
       "       [5.10354565, 2.92364164, 2.59972248, 1.62393458, 3.62703442]])"
      ]
     },
     "execution_count": 29,
     "metadata": {},
     "output_type": "execute_result"
    }
   ],
   "source": [
    "consumed_pop_tarts"
   ]
  },
  {
   "cell_type": "code",
   "execution_count": 32,
   "metadata": {},
   "outputs": [],
   "source": [
    "answer = (consumed_pop_tarts.sum(axis=1) <= 16).mean()"
   ]
  },
  {
   "cell_type": "code",
   "execution_count": 33,
   "metadata": {},
   "outputs": [
    {
     "data": {
      "text/plain": [
       "0.616688"
      ]
     },
     "execution_count": 33,
     "metadata": {},
     "output_type": "execute_result"
    }
   ],
   "source": [
    "answer"
   ]
  },
  {
   "cell_type": "code",
   "execution_count": 34,
   "metadata": {},
   "outputs": [],
   "source": [
    " #Compare Heights\n",
    "\n",
    "  #  - Men have an average height of 178 cm and standard deviation of 8cm.\n",
    "  #  - Women have a mean of 170, sd = 6cm.\n",
    "  #  - If a man and woman are chosen at random, P(woman taller than man)?"
   ]
  },
  {
   "cell_type": "code",
   "execution_count": 37,
   "metadata": {},
   "outputs": [],
   "source": [
    "avg_men = 178\n",
    "std_men = 8\n",
    "avg_women = 170\n",
    "std_women  = 6\n",
    "\n",
    "s_men = np.random.normal(avg_men, std_men, 1_000_000)\n",
    "s_women = np.random.normal(avg_women, std_women, 1_000_000)"
   ]
  },
  {
   "cell_type": "code",
   "execution_count": 38,
   "metadata": {},
   "outputs": [
    {
     "data": {
      "text/plain": [
       "array([167.11136476, 171.03446893, 169.95782969, ..., 170.17310098,\n",
       "       175.71700986, 190.53368925])"
      ]
     },
     "execution_count": 38,
     "metadata": {},
     "output_type": "execute_result"
    }
   ],
   "source": [
    "s_men"
   ]
  },
  {
   "cell_type": "code",
   "execution_count": 41,
   "metadata": {},
   "outputs": [
    {
     "data": {
      "text/plain": [
       "0.211727"
      ]
     },
     "execution_count": 41,
     "metadata": {},
     "output_type": "execute_result"
    }
   ],
   "source": [
    "(s_women > s_men).mean()"
   ]
  },
  {
   "cell_type": "code",
   "execution_count": 42,
   "metadata": {},
   "outputs": [],
   "source": [
    "#When installing anaconda on a student's computer, there's a 1 in 250 chance\n",
    "  # that the download is corrupted and the installation fails. What are the odds\n",
    "  # that after having 50 students download anaconda, no one has an installation\n",
    "  # issue?  100 students?"
   ]
  },
  {
   "cell_type": "code",
   "execution_count": 45,
   "metadata": {},
   "outputs": [],
   "source": [
    "rows = 1_000_000\n",
    "cols = 50 #150 #450\n",
    "fail = 1\n",
    "sucess  = 0\n",
    "prob= (1/250)\n",
    "\n",
    "test = np.random.random((rows, cols))\n"
   ]
  },
  {
   "cell_type": "code",
   "execution_count": 47,
   "metadata": {},
   "outputs": [
    {
     "data": {
      "text/plain": [
       "0.81832"
      ]
     },
     "execution_count": 47,
     "metadata": {},
     "output_type": "execute_result"
    }
   ],
   "source": [
    "((test<prob).sum(axis=1)==0).mean()"
   ]
  },
  {
   "cell_type": "code",
   "execution_count": 48,
   "metadata": {},
   "outputs": [],
   "source": [
    "#There's a 70% chance on any given day that there will be at least one food\n",
    "   #truck at Travis Park. However, you haven't seen a food truck there in 3 days.\n",
    "   #How unlikely is this?"
   ]
  },
  {
   "cell_type": "code",
   "execution_count": 49,
   "metadata": {},
   "outputs": [],
   "source": [
    "prob = .70\n",
    "row = 1_000_000\n",
    "cols = 3\n",
    "truck = 1\n",
    "no_truck =0\n",
    "\n"
   ]
  },
  {
   "cell_type": "code",
   "execution_count": 54,
   "metadata": {},
   "outputs": [],
   "source": [
    "test = np.random.random((row, cols))"
   ]
  },
  {
   "cell_type": "code",
   "execution_count": 55,
   "metadata": {},
   "outputs": [
    {
     "data": {
      "text/plain": [
       "0.027029"
      ]
     },
     "execution_count": 55,
     "metadata": {},
     "output_type": "execute_result"
    }
   ],
   "source": [
    "((test < prob).sum(axis=1)==0).mean()"
   ]
  },
  {
   "cell_type": "code",
   "execution_count": 56,
   "metadata": {},
   "outputs": [],
   "source": [
    "# How likely is it that a food truck will show up sometime this week?"
   ]
  },
  {
   "cell_type": "code",
   "execution_count": 59,
   "metadata": {},
   "outputs": [],
   "source": [
    "lunch_days = np.random.random((row,cols))\n",
    "calc = ((lunch_days < truck).sum(axis=1)>0).mean()"
   ]
  },
  {
   "cell_type": "code",
   "execution_count": 60,
   "metadata": {},
   "outputs": [
    {
     "data": {
      "text/plain": [
       "1.0"
      ]
     },
     "execution_count": 60,
     "metadata": {},
     "output_type": "execute_result"
    }
   ],
   "source": [
    "calc"
   ]
  },
  {
   "cell_type": "code",
   "execution_count": 61,
   "metadata": {},
   "outputs": [],
   "source": [
    "#If 23 people are in the same room, what are the odds that two of them share a birthday? What if it's 20 people? 40?"
   ]
  },
  {
   "cell_type": "code",
   "execution_count": 76,
   "metadata": {},
   "outputs": [],
   "source": [
    "outcomes = range(0,365)\n",
    "trials = 40 #20 #23 #40\n",
    "sim = 1000000\n",
    "classrooms = np.random.choice(outcomes, size=(sim, trials))"
   ]
  },
  {
   "cell_type": "code",
   "execution_count": 77,
   "metadata": {},
   "outputs": [
    {
     "data": {
      "text/plain": [
       "array([[251, 176, 207, ..., 223, 338, 252],\n",
       "       [170, 329, 102, ..., 162, 147, 256],\n",
       "       [ 88, 274, 219, ..., 300, 315, 105],\n",
       "       ...,\n",
       "       [299, 140, 296, ..., 171,  43, 340],\n",
       "       [228,  22, 140, ..., 197, 364,  54],\n",
       "       [271, 315, 157, ...,  95,  46,  41]])"
      ]
     },
     "execution_count": 77,
     "metadata": {},
     "output_type": "execute_result"
    }
   ],
   "source": [
    "classrooms"
   ]
  },
  {
   "cell_type": "code",
   "execution_count": 78,
   "metadata": {},
   "outputs": [],
   "source": [
    "twins = [len(np.unique(classrooms[n])) for n in range(0,sim -1 ) if len(np.unique(classrooms[n])) < trials]"
   ]
  },
  {
   "cell_type": "code",
   "execution_count": 79,
   "metadata": {},
   "outputs": [],
   "source": [
    "prob = len(twins) / sim"
   ]
  },
  {
   "cell_type": "code",
   "execution_count": 80,
   "metadata": {},
   "outputs": [
    {
     "data": {
      "text/plain": [
       "0.891784"
      ]
     },
     "execution_count": 80,
     "metadata": {},
     "output_type": "execute_result"
    }
   ],
   "source": [
    "prob"
   ]
  },
  {
   "cell_type": "code",
   "execution_count": null,
   "metadata": {},
   "outputs": [],
   "source": []
  }
 ],
 "metadata": {
  "kernelspec": {
   "display_name": "Python 3",
   "language": "python",
   "name": "python3"
  },
  "language_info": {
   "codemirror_mode": {
    "name": "ipython",
    "version": 3
   },
   "file_extension": ".py",
   "mimetype": "text/x-python",
   "name": "python",
   "nbconvert_exporter": "python",
   "pygments_lexer": "ipython3",
   "version": "3.8.5"
  }
 },
 "nbformat": 4,
 "nbformat_minor": 4
}
